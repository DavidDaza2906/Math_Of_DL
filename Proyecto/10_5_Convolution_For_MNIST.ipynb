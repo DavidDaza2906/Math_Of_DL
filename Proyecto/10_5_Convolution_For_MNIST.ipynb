{
  "nbformat": 4,
  "nbformat_minor": 0,
  "metadata": {
    "colab": {
      "provenance": [],
      "include_colab_link": true
    },
    "kernelspec": {
      "name": "python3",
      "display_name": "Python 3"
    },
    "language_info": {
      "name": "python"
    }
  },
  "cells": [
    {
      "cell_type": "markdown",
      "metadata": {
        "id": "view-in-github",
        "colab_type": "text"
      },
      "source": [
        "<a href=\"https://colab.research.google.com/github/DavidDaza2906/UnderstandingDeepLearning/blob/main/Proyecto/10_5_Convolution_For_MNIST.ipynb\" target=\"_parent\"><img src=\"https://colab.research.google.com/assets/colab-badge.svg\" alt=\"Open In Colab\"/></a>"
      ]
    },
    {
      "cell_type": "markdown",
      "source": [
        "# **Notebook 10.5: Convolution for MNIST**\n",
        "\n",
        "This notebook builds a proper network for 2D convolution.  It works with the MNIST dataset (figure 15.15a), which was the original classic dataset for classifying images.  The network will take a 28x28 grayscale image and classify it into one of 10 classes representing a digit.\n",
        "\n",
        "The code is adapted from https://nextjournal.com/gkoehler/pytorch-mnist\n",
        "\n",
        "Work through the cells below, running each cell in turn. In various places you will see the words \"TO DO\". Follow the instructions at these places and make predictions about what is going to happen or write code to complete the functions.\n",
        "\n",
        "Contact me at udlbookmail@gmail.com if you find any mistakes or have any suggestions.\n"
      ],
      "metadata": {
        "id": "t9vk9Elugvmi"
      }
    },
    {
      "cell_type": "code",
      "source": [
        "import torch\n",
        "import torchvision\n",
        "import torch.nn as nn\n",
        "import torch.nn.functional as F\n",
        "import torch.optim as optim\n",
        "import matplotlib.pyplot as plt\n",
        "import random"
      ],
      "metadata": {
        "id": "YrXWAH7sUWvU"
      },
      "execution_count": 1,
      "outputs": []
    },
    {
      "cell_type": "code",
      "source": [
        "# Run this once to load the train and test data straight into a dataloader class\n",
        "# that will provide the batches\n",
        "batch_size_train = 64\n",
        "batch_size_test = 1000\n",
        "train_loader = torch.utils.data.DataLoader(\n",
        "  torchvision.datasets.MNIST('/files/', train=True, download=True,\n",
        "                             transform=torchvision.transforms.Compose([\n",
        "                               torchvision.transforms.ToTensor(),\n",
        "                               torchvision.transforms.Normalize(\n",
        "                                 (0.1307,), (0.3081,))\n",
        "                             ])),\n",
        "  batch_size=batch_size_train, shuffle=True)\n",
        "\n",
        "test_loader = torch.utils.data.DataLoader(\n",
        "  torchvision.datasets.MNIST('/files/', train=False, download=True,\n",
        "                             transform=torchvision.transforms.Compose([\n",
        "                               torchvision.transforms.ToTensor(),\n",
        "                               torchvision.transforms.Normalize(\n",
        "                                 (0.1307,), (0.3081,))\n",
        "                             ])),\n",
        "  batch_size=batch_size_test, shuffle=True)"
      ],
      "metadata": {
        "id": "wScBGXXFVadm",
        "colab": {
          "base_uri": "https://localhost:8080/"
        },
        "outputId": "50569dcf-3630-49bd-ee8c-29bcbe29a7ea"
      },
      "execution_count": 2,
      "outputs": [
        {
          "output_type": "stream",
          "name": "stdout",
          "text": [
            "Downloading http://yann.lecun.com/exdb/mnist/train-images-idx3-ubyte.gz\n",
            "Failed to download (trying next):\n",
            "HTTP Error 403: Forbidden\n",
            "\n",
            "Downloading https://ossci-datasets.s3.amazonaws.com/mnist/train-images-idx3-ubyte.gz\n",
            "Downloading https://ossci-datasets.s3.amazonaws.com/mnist/train-images-idx3-ubyte.gz to /files/MNIST/raw/train-images-idx3-ubyte.gz\n"
          ]
        },
        {
          "output_type": "stream",
          "name": "stderr",
          "text": [
            "100%|██████████| 9912422/9912422 [00:00<00:00, 42116785.59it/s]\n"
          ]
        },
        {
          "output_type": "stream",
          "name": "stdout",
          "text": [
            "Extracting /files/MNIST/raw/train-images-idx3-ubyte.gz to /files/MNIST/raw\n",
            "\n",
            "Downloading http://yann.lecun.com/exdb/mnist/train-labels-idx1-ubyte.gz\n",
            "Failed to download (trying next):\n",
            "HTTP Error 403: Forbidden\n",
            "\n",
            "Downloading https://ossci-datasets.s3.amazonaws.com/mnist/train-labels-idx1-ubyte.gz\n",
            "Downloading https://ossci-datasets.s3.amazonaws.com/mnist/train-labels-idx1-ubyte.gz to /files/MNIST/raw/train-labels-idx1-ubyte.gz\n"
          ]
        },
        {
          "output_type": "stream",
          "name": "stderr",
          "text": [
            "100%|██████████| 28881/28881 [00:00<00:00, 5692466.82it/s]"
          ]
        },
        {
          "output_type": "stream",
          "name": "stdout",
          "text": [
            "Extracting /files/MNIST/raw/train-labels-idx1-ubyte.gz to /files/MNIST/raw\n",
            "\n",
            "Downloading http://yann.lecun.com/exdb/mnist/t10k-images-idx3-ubyte.gz\n"
          ]
        },
        {
          "output_type": "stream",
          "name": "stderr",
          "text": [
            "\n"
          ]
        },
        {
          "output_type": "stream",
          "name": "stdout",
          "text": [
            "Failed to download (trying next):\n",
            "HTTP Error 403: Forbidden\n",
            "\n",
            "Downloading https://ossci-datasets.s3.amazonaws.com/mnist/t10k-images-idx3-ubyte.gz\n",
            "Downloading https://ossci-datasets.s3.amazonaws.com/mnist/t10k-images-idx3-ubyte.gz to /files/MNIST/raw/t10k-images-idx3-ubyte.gz\n"
          ]
        },
        {
          "output_type": "stream",
          "name": "stderr",
          "text": [
            "100%|██████████| 1648877/1648877 [00:00<00:00, 12996473.45it/s]\n"
          ]
        },
        {
          "output_type": "stream",
          "name": "stdout",
          "text": [
            "Extracting /files/MNIST/raw/t10k-images-idx3-ubyte.gz to /files/MNIST/raw\n",
            "\n",
            "Downloading http://yann.lecun.com/exdb/mnist/t10k-labels-idx1-ubyte.gz\n",
            "Failed to download (trying next):\n",
            "HTTP Error 403: Forbidden\n",
            "\n",
            "Downloading https://ossci-datasets.s3.amazonaws.com/mnist/t10k-labels-idx1-ubyte.gz\n",
            "Downloading https://ossci-datasets.s3.amazonaws.com/mnist/t10k-labels-idx1-ubyte.gz to /files/MNIST/raw/t10k-labels-idx1-ubyte.gz\n"
          ]
        },
        {
          "output_type": "stream",
          "name": "stderr",
          "text": [
            "100%|██████████| 4542/4542 [00:00<00:00, 6765102.55it/s]\n"
          ]
        },
        {
          "output_type": "stream",
          "name": "stdout",
          "text": [
            "Extracting /files/MNIST/raw/t10k-labels-idx1-ubyte.gz to /files/MNIST/raw\n",
            "\n"
          ]
        }
      ]
    },
    {
      "cell_type": "code",
      "source": [
        "# Let's draw some of the training data\n",
        "examples = enumerate(test_loader)\n",
        "batch_idx, (example_data, example_targets) = next(examples)\n",
        "\n",
        "fig = plt.figure()\n",
        "for i in range(6):\n",
        "  plt.subplot(2,3,i+1)\n",
        "  plt.tight_layout()\n",
        "  plt.imshow(example_data[i][0], cmap='gray', interpolation='none')\n",
        "  plt.title(\"Ground Truth: {}\".format(example_targets[i]))\n",
        "  plt.xticks([])\n",
        "  plt.yticks([])\n",
        "plt.show()"
      ],
      "metadata": {
        "id": "8bKADvLHbiV5",
        "colab": {
          "base_uri": "https://localhost:8080/",
          "height": 438
        },
        "outputId": "cd40d8b0-5200-4850-f83b-fc2bb3f78231"
      },
      "execution_count": 3,
      "outputs": [
        {
          "output_type": "display_data",
          "data": {
            "text/plain": [
              "<Figure size 640x480 with 6 Axes>"
            ],
            "image/png": "[encoded data removed]"
          },
          "metadata": {}
        }
      ]
    },
    {
      "cell_type": "markdown",
      "source": [
        "Define the network.  This is a more typical way to define a network than the sequential structure.  We define a class for the network, and define the parameters in the constructor.  Then we use a function called forward to actually run the network.  It's easy to see how you might use residual connections in this format."
      ],
      "metadata": {
        "id": "_sFvRDGrl4qe"
      }
    },
    {
      "cell_type": "code",
      "source": [
        "from os import X_OK\n",
        "# TODO Change this class to implement\n",
        "# 1. A valid convolution with kernel size 5, 1 input channel and 10 output channels\n",
        "# 2. A max pooling operation over a 2x2 area\n",
        "# 3. A Relu\n",
        "# 4. A valid convolution with kernel size 5, 10 input channels and 20 output channels\n",
        "# 5. A 2D Dropout layer\n",
        "# 6. A max pooling operation over a 2x2 area\n",
        "# 7. A relu\n",
        "# 8. A flattening operation\n",
        "# 9. A fully connected layer mapping from (whatever dimensions we are at-- find out using .shape) to 50\n",
        "# 10. A ReLU\n",
        "# 11. A fully connected layer mapping from 50 to 10 dimensions\n",
        "# 12. A softmax function.\n",
        "\n",
        "# Replace this class which implements a minimal network (which still does okay)\n",
        "class Net(nn.Module):\n",
        "    def __init__(self):\n",
        "        super(Net, self).__init__()\n",
        "        # Valid convolution, 1 channel in, 2 channels out, stride 1, kernel size = 3\n",
        "        self.conv1 = nn.Conv2d(1, 10, kernel_size=5)\n",
        "        # Valid convolution, 2 channels in, 3 channels out, stride 1, kernel size = 3\n",
        "        self.conv2 = nn.Conv2d(10, 20, kernel_size=5)\n",
        "        # Dropout for convolutions\n",
        "        self.drop = nn.Dropout2d()\n",
        "        self.fc1 = nn.Linear(320, 50)\n",
        "        self.fc2 = nn.Linear(50, 10)\n",
        "\n",
        "    def forward(self, x):\n",
        "        x = self.conv1(x)\n",
        "        x = F.max_pool2d(x,2)\n",
        "        x = F.relu(x)\n",
        "        x = self.conv2(x)\n",
        "        x = self.drop(x)\n",
        "        x = F.max_pool2d(x,2)\n",
        "        x = F.relu(x)\n",
        "        x = x.flatten(1)\n",
        "        x = self.fc1(x)\n",
        "        x = F.relu(x)\n",
        "        x = self.fc2(x)\n",
        "        x = F.log_softmax(x)\n",
        "        return x\n",
        "\n",
        "\n",
        "\n",
        "\n"
      ],
      "metadata": {
        "id": "EQkvw2KOPVl7"
      },
      "execution_count": 5,
      "outputs": []
    },
    {
      "cell_type": "code",
      "source": [
        "# He initialization of weights\n",
        "def weights_init(layer_in):\n",
        "  if isinstance(layer_in, nn.Linear):\n",
        "    nn.init.kaiming_uniform_(layer_in.weight)\n",
        "    layer_in.bias.data.fill_(0.0)"
      ],
      "metadata": {
        "id": "qWZtkCZcU_dg"
      },
      "execution_count": 6,
      "outputs": []
    },
    {
      "cell_type": "code",
      "source": [
        "# Create network\n",
        "model = Net()\n",
        "# Initialize model weights\n",
        "model.apply(weights_init)\n",
        "# Define optimizer\n",
        "optimizer = optim.SGD(model.parameters(), lr=0.01, momentum=0.5)"
      ],
      "metadata": {
        "id": "FslroPJJffrh"
      },
      "execution_count": 7,
      "outputs": []
    },
    {
      "cell_type": "code",
      "source": [
        "# Main training routine\n",
        "def train(epoch):\n",
        "  model.train()\n",
        "  # Get each\n",
        "  for batch_idx, (data, target) in enumerate(train_loader):\n",
        "    optimizer.zero_grad()\n",
        "    output = model(data)\n",
        "    loss = F.nll_loss(output, target)\n",
        "    loss.backward()\n",
        "    optimizer.step()\n",
        "    # Store results\n",
        "    if batch_idx % 10 == 0:\n",
        "      print('Train Epoch: {} [{}/{}]\\tLoss: {:.6f}'.format(\n",
        "        epoch, batch_idx * len(data), len(train_loader.dataset), loss.item()))"
      ],
      "metadata": {
        "id": "xKQd9PzkQ766"
      },
      "execution_count": 8,
      "outputs": []
    },
    {
      "cell_type": "code",
      "source": [
        "# Run on test data\n",
        "def test():\n",
        "  model.eval()\n",
        "  test_loss = 0\n",
        "  correct = 0\n",
        "  with torch.no_grad():\n",
        "    for data, target in test_loader:\n",
        "      output = model(data)\n",
        "      test_loss += F.nll_loss(output, target, size_average=False).item()\n",
        "      pred = output.data.max(1, keepdim=True)[1]\n",
        "      correct += pred.eq(target.data.view_as(pred)).sum()\n",
        "  test_loss /= len(test_loader.dataset)\n",
        "  print('\\nTest set: Avg. loss: {:.4f}, Accuracy: {}/{} ({:.0f}%)\\n'.format(\n",
        "    test_loss, correct, len(test_loader.dataset),\n",
        "    100. * correct / len(test_loader.dataset)))"
      ],
      "metadata": {
        "id": "Byn-f7qWRLxX"
      },
      "execution_count": 9,
      "outputs": []
    },
    {
      "cell_type": "code",
      "source": [
        "# Get initial performance\n",
        "test()\n",
        "# Train for three epochs\n",
        "n_epochs = 3\n",
        "for epoch in range(1, n_epochs + 1):\n",
        "  train(epoch)\n",
        "  test()"
      ],
      "metadata": {
        "id": "YgLaex1pfhqz",
        "colab": {
          "base_uri": "https://localhost:8080/"
        },
        "outputId": "835d4508-b4fe-4672-a292-c30e3822cc0b"
      },
      "execution_count": 10,
      "outputs": [
        {
          "output_type": "stream",
          "name": "stderr",
          "text": [
            "<ipython-input-5-5f25aff7466a>:41: UserWarning: Implicit dimension choice for log_softmax has been deprecated. Change the call to include dim=X as an argument.\n",
            "  x = F.log_softmax(x)\n",
            "/usr/local/lib/python3.10/dist-packages/torch/nn/_reduction.py:42: UserWarning: size_average and reduce args will be deprecated, please use reduction='sum' instead.\n",
            "  warnings.warn(warning.format(ret))\n"
          ]
        },
        {
          "output_type": "stream",
          "name": "stdout",
          "text": [
            "\n",
            "Test set: Avg. loss: 2.5103, Accuracy: 1029/10000 (10%)\n",
            "\n",
            "Train Epoch: 1 [0/60000]\tLoss: 2.714109\n",
            "Train Epoch: 1 [640/60000]\tLoss: 2.257652\n",
            "Train Epoch: 1 [1280/60000]\tLoss: 2.084830\n",
            "Train Epoch: 1 [1920/60000]\tLoss: 2.086008\n",
            "Train Epoch: 1 [2560/60000]\tLoss: 1.844787\n",
            "Train Epoch: 1 [3200/60000]\tLoss: 1.798016\n",
            "Train Epoch: 1 [3840/60000]\tLoss: 1.731390\n",
            "Train Epoch: 1 [4480/60000]\tLoss: 1.391080\n",
            "Train Epoch: 1 [5120/60000]\tLoss: 1.194822\n",
            "Train Epoch: 1 [5760/60000]\tLoss: 1.305593\n",
            "Train Epoch: 1 [6400/60000]\tLoss: 1.183196\n",
            "Train Epoch: 1 [7040/60000]\tLoss: 0.962549\n",
            "Train Epoch: 1 [7680/60000]\tLoss: 1.034158\n",
            "Train Epoch: 1 [8320/60000]\tLoss: 1.038860\n",
            "Train Epoch: 1 [8960/60000]\tLoss: 0.735598\n",
            "Train Epoch: 1 [9600/60000]\tLoss: 0.868119\n",
            "Train Epoch: 1 [10240/60000]\tLoss: 0.581073\n",
            "Train Epoch: 1 [10880/60000]\tLoss: 0.646184\n",
            "Train Epoch: 1 [11520/60000]\tLoss: 0.569759\n",
            "Train Epoch: 1 [12160/60000]\tLoss: 0.455074\n",
            "Train Epoch: 1 [12800/60000]\tLoss: 0.637094\n",
            "Train Epoch: 1 [13440/60000]\tLoss: 0.622978\n",
            "Train Epoch: 1 [14080/60000]\tLoss: 0.482231\n",
            "Train Epoch: 1 [14720/60000]\tLoss: 0.594331\n",
            "Train Epoch: 1 [15360/60000]\tLoss: 0.567040\n",
            "Train Epoch: 1 [16000/60000]\tLoss: 0.412644\n",
            "Train Epoch: 1 [16640/60000]\tLoss: 0.482642\n",
            "Train Epoch: 1 [17280/60000]\tLoss: 0.461863\n",
            "Train Epoch: 1 [17920/60000]\tLoss: 0.318236\n",
            "Train Epoch: 1 [18560/60000]\tLoss: 0.570111\n",
            "Train Epoch: 1 [19200/60000]\tLoss: 0.402243\n",
            "Train Epoch: 1 [19840/60000]\tLoss: 0.364923\n",
            "Train Epoch: 1 [20480/60000]\tLoss: 0.257163\n",
            "Train Epoch: 1 [21120/60000]\tLoss: 0.894154\n",
            "Train Epoch: 1 [21760/60000]\tLoss: 0.360882\n",
            "Train Epoch: 1 [22400/60000]\tLoss: 0.412213\n",
            "Train Epoch: 1 [23040/60000]\tLoss: 0.517132\n",
            "Train Epoch: 1 [23680/60000]\tLoss: 0.560155\n",
            "Train Epoch: 1 [24320/60000]\tLoss: 0.626450\n",
            "Train Epoch: 1 [24960/60000]\tLoss: 0.395686\n",
            "Train Epoch: 1 [25600/60000]\tLoss: 0.382005\n",
            "Train Epoch: 1 [26240/60000]\tLoss: 0.516210\n",
            "Train Epoch: 1 [26880/60000]\tLoss: 0.414527\n",
            "Train Epoch: 1 [27520/60000]\tLoss: 0.378618\n",
            "Train Epoch: 1 [28160/60000]\tLoss: 0.216255\n",
            "Train Epoch: 1 [28800/60000]\tLoss: 0.321596\n",
            "Train Epoch: 1 [29440/60000]\tLoss: 0.400053\n",
            "Train Epoch: 1 [30080/60000]\tLoss: 0.570246\n",
            "Train Epoch: 1 [30720/60000]\tLoss: 0.554903\n",
            "Train Epoch: 1 [31360/60000]\tLoss: 0.342155\n",
            "Train Epoch: 1 [32000/60000]\tLoss: 0.289357\n",
            "Train Epoch: 1 [32640/60000]\tLoss: 0.408609\n",
            "Train Epoch: 1 [33280/60000]\tLoss: 0.338581\n",
            "Train Epoch: 1 [33920/60000]\tLoss: 0.330194\n",
            "Train Epoch: 1 [34560/60000]\tLoss: 0.377946\n",
            "Train Epoch: 1 [35200/60000]\tLoss: 0.375885\n",
            "Train Epoch: 1 [35840/60000]\tLoss: 0.249689\n",
            "Train Epoch: 1 [36480/60000]\tLoss: 0.317599\n",
            "Train Epoch: 1 [37120/60000]\tLoss: 0.561329\n",
            "Train Epoch: 1 [37760/60000]\tLoss: 0.253763\n",
            "Train Epoch: 1 [38400/60000]\tLoss: 0.326183\n",
            "Train Epoch: 1 [39040/60000]\tLoss: 0.372694\n",
            "Train Epoch: 1 [39680/60000]\tLoss: 0.323214\n",
            "Train Epoch: 1 [40320/60000]\tLoss: 0.274336\n",
            "Train Epoch: 1 [40960/60000]\tLoss: 0.167411\n",
            "Train Epoch: 1 [41600/60000]\tLoss: 0.105595\n",
            "Train Epoch: 1 [42240/60000]\tLoss: 0.265218\n",
            "Train Epoch: 1 [42880/60000]\tLoss: 0.440095\n",
            "Train Epoch: 1 [43520/60000]\tLoss: 0.465905\n",
            "Train Epoch: 1 [44160/60000]\tLoss: 0.450692\n",
            "Train Epoch: 1 [44800/60000]\tLoss: 0.245866\n",
            "Train Epoch: 1 [45440/60000]\tLoss: 0.257411\n",
            "Train Epoch: 1 [46080/60000]\tLoss: 0.190263\n",
            "Train Epoch: 1 [46720/60000]\tLoss: 0.260384\n",
            "Train Epoch: 1 [47360/60000]\tLoss: 0.175260\n",
            "Train Epoch: 1 [48000/60000]\tLoss: 0.399164\n",
            "Train Epoch: 1 [48640/60000]\tLoss: 0.282713\n",
            "Train Epoch: 1 [49280/60000]\tLoss: 0.271163\n",
            "Train Epoch: 1 [49920/60000]\tLoss: 0.160695\n",
            "Train Epoch: 1 [50560/60000]\tLoss: 0.342288\n",
            "Train Epoch: 1 [51200/60000]\tLoss: 0.104419\n",
            "Train Epoch: 1 [51840/60000]\tLoss: 0.258458\n",
            "Train Epoch: 1 [52480/60000]\tLoss: 0.453088\n",
            "Train Epoch: 1 [53120/60000]\tLoss: 0.300515\n",
            "Train Epoch: 1 [53760/60000]\tLoss: 0.315866\n",
            "Train Epoch: 1 [54400/60000]\tLoss: 0.244665\n",
            "Train Epoch: 1 [55040/60000]\tLoss: 0.290142\n",
            "Train Epoch: 1 [55680/60000]\tLoss: 0.395914\n",
            "Train Epoch: 1 [56320/60000]\tLoss: 0.181332\n",
            "Train Epoch: 1 [56960/60000]\tLoss: 0.188932\n",
            "Train Epoch: 1 [57600/60000]\tLoss: 0.242158\n",
            "Train Epoch: 1 [58240/60000]\tLoss: 0.304229\n",
            "Train Epoch: 1 [58880/60000]\tLoss: 0.380282\n",
            "Train Epoch: 1 [59520/60000]\tLoss: 0.196326\n",
            "\n",
            "Test set: Avg. loss: 0.1355, Accuracy: 9586/10000 (96%)\n",
            "\n",
            "Train Epoch: 2 [0/60000]\tLoss: 0.305662\n",
            "Train Epoch: 2 [640/60000]\tLoss: 0.355686\n",
            "Train Epoch: 2 [1280/60000]\tLoss: 0.138059\n",
            "Train Epoch: 2 [1920/60000]\tLoss: 0.151849\n",
            "Train Epoch: 2 [2560/60000]\tLoss: 0.207170\n",
            "Train Epoch: 2 [3200/60000]\tLoss: 0.207184\n",
            "Train Epoch: 2 [3840/60000]\tLoss: 0.128265\n",
            "Train Epoch: 2 [4480/60000]\tLoss: 0.055636\n",
            "Train Epoch: 2 [5120/60000]\tLoss: 0.089668\n",
            "Train Epoch: 2 [5760/60000]\tLoss: 0.210359\n",
            "Train Epoch: 2 [6400/60000]\tLoss: 0.276649\n",
            "Train Epoch: 2 [7040/60000]\tLoss: 0.309395\n",
            "Train Epoch: 2 [7680/60000]\tLoss: 0.263083\n",
            "Train Epoch: 2 [8320/60000]\tLoss: 0.307260\n",
            "Train Epoch: 2 [8960/60000]\tLoss: 0.295170\n",
            "Train Epoch: 2 [9600/60000]\tLoss: 0.440354\n",
            "Train Epoch: 2 [10240/60000]\tLoss: 0.294578\n",
            "Train Epoch: 2 [10880/60000]\tLoss: 0.201430\n",
            "Train Epoch: 2 [11520/60000]\tLoss: 0.237805\n",
            "Train Epoch: 2 [12160/60000]\tLoss: 0.116634\n",
            "Train Epoch: 2 [12800/60000]\tLoss: 0.193981\n",
            "Train Epoch: 2 [13440/60000]\tLoss: 0.236073\n",
            "Train Epoch: 2 [14080/60000]\tLoss: 0.181291\n",
            "Train Epoch: 2 [14720/60000]\tLoss: 0.183141\n",
            "Train Epoch: 2 [15360/60000]\tLoss: 0.164760\n",
            "Train Epoch: 2 [16000/60000]\tLoss: 0.293047\n",
            "Train Epoch: 2 [16640/60000]\tLoss: 0.059229\n",
            "Train Epoch: 2 [17280/60000]\tLoss: 0.360004\n",
            "Train Epoch: 2 [17920/60000]\tLoss: 0.122981\n",
            "Train Epoch: 2 [18560/60000]\tLoss: 0.172494\n",
            "Train Epoch: 2 [19200/60000]\tLoss: 0.330147\n",
            "Train Epoch: 2 [19840/60000]\tLoss: 0.321515\n",
            "Train Epoch: 2 [20480/60000]\tLoss: 0.230198\n",
            "Train Epoch: 2 [21120/60000]\tLoss: 0.153612\n",
            "Train Epoch: 2 [21760/60000]\tLoss: 0.189829\n",
            "Train Epoch: 2 [22400/60000]\tLoss: 0.160400\n",
            "Train Epoch: 2 [23040/60000]\tLoss: 0.237569\n",
            "Train Epoch: 2 [23680/60000]\tLoss: 0.192264\n",
            "Train Epoch: 2 [24320/60000]\tLoss: 0.179932\n",
            "Train Epoch: 2 [24960/60000]\tLoss: 0.239954\n",
            "Train Epoch: 2 [25600/60000]\tLoss: 0.082817\n",
            "Train Epoch: 2 [26240/60000]\tLoss: 0.170827\n",
            "Train Epoch: 2 [26880/60000]\tLoss: 0.087199\n",
            "Train Epoch: 2 [27520/60000]\tLoss: 0.164809\n",
            "Train Epoch: 2 [28160/60000]\tLoss: 0.099877\n",
            "Train Epoch: 2 [28800/60000]\tLoss: 0.252448\n",
            "Train Epoch: 2 [29440/60000]\tLoss: 0.139928\n",
            "Train Epoch: 2 [30080/60000]\tLoss: 0.124687\n",
            "Train Epoch: 2 [30720/60000]\tLoss: 0.257610\n",
            "Train Epoch: 2 [31360/60000]\tLoss: 0.229398\n",
            "Train Epoch: 2 [32000/60000]\tLoss: 0.217614\n",
            "Train Epoch: 2 [32640/60000]\tLoss: 0.138777\n",
            "Train Epoch: 2 [33280/60000]\tLoss: 0.139770\n",
            "Train Epoch: 2 [33920/60000]\tLoss: 0.339520\n",
            "Train Epoch: 2 [34560/60000]\tLoss: 0.161373\n",
            "Train Epoch: 2 [35200/60000]\tLoss: 0.219115\n",
            "Train Epoch: 2 [35840/60000]\tLoss: 0.291972\n",
            "Train Epoch: 2 [36480/60000]\tLoss: 0.265753\n",
            "Train Epoch: 2 [37120/60000]\tLoss: 0.204239\n",
            "Train Epoch: 2 [37760/60000]\tLoss: 0.141219\n",
            "Train Epoch: 2 [38400/60000]\tLoss: 0.045117\n",
            "Train Epoch: 2 [39040/60000]\tLoss: 0.148040\n",
            "Train Epoch: 2 [39680/60000]\tLoss: 0.130776\n",
            "Train Epoch: 2 [40320/60000]\tLoss: 0.135016\n",
            "Train Epoch: 2 [40960/60000]\tLoss: 0.235855\n",
            "Train Epoch: 2 [41600/60000]\tLoss: 0.302028\n",
            "Train Epoch: 2 [42240/60000]\tLoss: 0.141544\n",
            "Train Epoch: 2 [42880/60000]\tLoss: 0.470040\n",
            "Train Epoch: 2 [43520/60000]\tLoss: 0.181712\n",
            "Train Epoch: 2 [44160/60000]\tLoss: 0.184192\n",
            "Train Epoch: 2 [44800/60000]\tLoss: 0.170473\n",
            "Train Epoch: 2 [45440/60000]\tLoss: 0.137725\n",
            "Train Epoch: 2 [46080/60000]\tLoss: 0.246600\n",
            "Train Epoch: 2 [46720/60000]\tLoss: 0.248405\n",
            "Train Epoch: 2 [47360/60000]\tLoss: 0.086467\n",
            "Train Epoch: 2 [48000/60000]\tLoss: 0.268285\n",
            "Train Epoch: 2 [48640/60000]\tLoss: 0.112293\n",
            "Train Epoch: 2 [49280/60000]\tLoss: 0.101736\n",
            "Train Epoch: 2 [49920/60000]\tLoss: 0.184453\n",
            "Train Epoch: 2 [50560/60000]\tLoss: 0.154395\n",
            "Train Epoch: 2 [51200/60000]\tLoss: 0.180556\n",
            "Train Epoch: 2 [51840/60000]\tLoss: 0.129097\n",
            "Train Epoch: 2 [52480/60000]\tLoss: 0.187384\n",
            "Train Epoch: 2 [53120/60000]\tLoss: 0.059232\n",
            "Train Epoch: 2 [53760/60000]\tLoss: 0.250525\n",
            "Train Epoch: 2 [54400/60000]\tLoss: 0.125776\n",
            "Train Epoch: 2 [55040/60000]\tLoss: 0.168755\n",
            "Train Epoch: 2 [55680/60000]\tLoss: 0.079122\n",
            "Train Epoch: 2 [56320/60000]\tLoss: 0.261900\n",
            "Train Epoch: 2 [56960/60000]\tLoss: 0.045280\n",
            "Train Epoch: 2 [57600/60000]\tLoss: 0.222464\n",
            "Train Epoch: 2 [58240/60000]\tLoss: 0.239505\n",
            "Train Epoch: 2 [58880/60000]\tLoss: 0.343478\n",
            "Train Epoch: 2 [59520/60000]\tLoss: 0.171861\n",
            "\n",
            "Test set: Avg. loss: 0.0905, Accuracy: 9721/10000 (97%)\n",
            "\n",
            "Train Epoch: 3 [0/60000]\tLoss: 0.093099\n",
            "Train Epoch: 3 [640/60000]\tLoss: 0.108077\n",
            "Train Epoch: 3 [1280/60000]\tLoss: 0.195247\n",
            "Train Epoch: 3 [1920/60000]\tLoss: 0.063795\n",
            "Train Epoch: 3 [2560/60000]\tLoss: 0.133334\n",
            "Train Epoch: 3 [3200/60000]\tLoss: 0.160029\n",
            "Train Epoch: 3 [3840/60000]\tLoss: 0.128990\n",
            "Train Epoch: 3 [4480/60000]\tLoss: 0.388034\n",
            "Train Epoch: 3 [5120/60000]\tLoss: 0.057080\n",
            "Train Epoch: 3 [5760/60000]\tLoss: 0.121806\n",
            "Train Epoch: 3 [6400/60000]\tLoss: 0.183703\n",
            "Train Epoch: 3 [7040/60000]\tLoss: 0.172582\n",
            "Train Epoch: 3 [7680/60000]\tLoss: 0.141827\n",
            "Train Epoch: 3 [8320/60000]\tLoss: 0.071358\n",
            "Train Epoch: 3 [8960/60000]\tLoss: 0.126965\n",
            "Train Epoch: 3 [9600/60000]\tLoss: 0.318252\n",
            "Train Epoch: 3 [10240/60000]\tLoss: 0.364121\n",
            "Train Epoch: 3 [10880/60000]\tLoss: 0.177256\n",
            "Train Epoch: 3 [11520/60000]\tLoss: 0.174525\n",
            "Train Epoch: 3 [12160/60000]\tLoss: 0.213472\n",
            "Train Epoch: 3 [12800/60000]\tLoss: 0.246483\n",
            "Train Epoch: 3 [13440/60000]\tLoss: 0.060081\n",
            "Train Epoch: 3 [14080/60000]\tLoss: 0.045300\n",
            "Train Epoch: 3 [14720/60000]\tLoss: 0.269982\n",
            "Train Epoch: 3 [15360/60000]\tLoss: 0.163123\n",
            "Train Epoch: 3 [16000/60000]\tLoss: 0.182147\n",
            "Train Epoch: 3 [16640/60000]\tLoss: 0.435038\n",
            "Train Epoch: 3 [17280/60000]\tLoss: 0.168730\n",
            "Train Epoch: 3 [17920/60000]\tLoss: 0.192192\n",
            "Train Epoch: 3 [18560/60000]\tLoss: 0.049280\n",
            "Train Epoch: 3 [19200/60000]\tLoss: 0.141832\n",
            "Train Epoch: 3 [19840/60000]\tLoss: 0.070487\n",
            "Train Epoch: 3 [20480/60000]\tLoss: 0.318280\n",
            "Train Epoch: 3 [21120/60000]\tLoss: 0.225967\n",
            "Train Epoch: 3 [21760/60000]\tLoss: 0.135844\n",
            "Train Epoch: 3 [22400/60000]\tLoss: 0.232077\n",
            "Train Epoch: 3 [23040/60000]\tLoss: 0.101402\n",
            "Train Epoch: 3 [23680/60000]\tLoss: 0.074078\n",
            "Train Epoch: 3 [24320/60000]\tLoss: 0.278076\n",
            "Train Epoch: 3 [24960/60000]\tLoss: 0.132718\n",
            "Train Epoch: 3 [25600/60000]\tLoss: 0.073871\n",
            "Train Epoch: 3 [26240/60000]\tLoss: 0.114632\n",
            "Train Epoch: 3 [26880/60000]\tLoss: 0.178588\n",
            "Train Epoch: 3 [27520/60000]\tLoss: 0.252352\n",
            "Train Epoch: 3 [28160/60000]\tLoss: 0.251042\n",
            "Train Epoch: 3 [28800/60000]\tLoss: 0.156568\n",
            "Train Epoch: 3 [29440/60000]\tLoss: 0.049169\n",
            "Train Epoch: 3 [30080/60000]\tLoss: 0.069722\n",
            "Train Epoch: 3 [30720/60000]\tLoss: 0.174632\n",
            "Train Epoch: 3 [31360/60000]\tLoss: 0.201657\n",
            "Train Epoch: 3 [32000/60000]\tLoss: 0.051150\n",
            "Train Epoch: 3 [32640/60000]\tLoss: 0.068143\n",
            "Train Epoch: 3 [33280/60000]\tLoss: 0.058522\n",
            "Train Epoch: 3 [33920/60000]\tLoss: 0.112943\n",
            "Train Epoch: 3 [34560/60000]\tLoss: 0.067390\n",
            "Train Epoch: 3 [35200/60000]\tLoss: 0.124304\n",
            "Train Epoch: 3 [35840/60000]\tLoss: 0.193797\n",
            "Train Epoch: 3 [36480/60000]\tLoss: 0.097019\n",
            "Train Epoch: 3 [37120/60000]\tLoss: 0.193752\n",
            "Train Epoch: 3 [37760/60000]\tLoss: 0.094794\n",
            "Train Epoch: 3 [38400/60000]\tLoss: 0.241069\n",
            "Train Epoch: 3 [39040/60000]\tLoss: 0.168307\n",
            "Train Epoch: 3 [39680/60000]\tLoss: 0.143245\n",
            "Train Epoch: 3 [40320/60000]\tLoss: 0.179394\n",
            "Train Epoch: 3 [40960/60000]\tLoss: 0.167923\n",
            "Train Epoch: 3 [41600/60000]\tLoss: 0.155786\n",
            "Train Epoch: 3 [42240/60000]\tLoss: 0.118502\n",
            "Train Epoch: 3 [42880/60000]\tLoss: 0.083959\n",
            "Train Epoch: 3 [43520/60000]\tLoss: 0.130535\n",
            "Train Epoch: 3 [44160/60000]\tLoss: 0.072910\n",
            "Train Epoch: 3 [44800/60000]\tLoss: 0.220167\n",
            "Train Epoch: 3 [45440/60000]\tLoss: 0.210218\n",
            "Train Epoch: 3 [46080/60000]\tLoss: 0.150576\n",
            "Train Epoch: 3 [46720/60000]\tLoss: 0.135052\n",
            "Train Epoch: 3 [47360/60000]\tLoss: 0.163306\n",
            "Train Epoch: 3 [48000/60000]\tLoss: 0.111346\n",
            "Train Epoch: 3 [48640/60000]\tLoss: 0.115223\n",
            "Train Epoch: 3 [49280/60000]\tLoss: 0.184849\n",
            "Train Epoch: 3 [49920/60000]\tLoss: 0.112690\n",
            "Train Epoch: 3 [50560/60000]\tLoss: 0.228063\n",
            "Train Epoch: 3 [51200/60000]\tLoss: 0.106948\n",
            "Train Epoch: 3 [51840/60000]\tLoss: 0.234939\n",
            "Train Epoch: 3 [52480/60000]\tLoss: 0.338878\n",
            "Train Epoch: 3 [53120/60000]\tLoss: 0.085401\n",
            "Train Epoch: 3 [53760/60000]\tLoss: 0.205565\n",
            "Train Epoch: 3 [54400/60000]\tLoss: 0.221030\n",
            "Train Epoch: 3 [55040/60000]\tLoss: 0.194768\n",
            "Train Epoch: 3 [55680/60000]\tLoss: 0.111018\n",
            "Train Epoch: 3 [56320/60000]\tLoss: 0.150968\n",
            "Train Epoch: 3 [56960/60000]\tLoss: 0.098820\n",
            "Train Epoch: 3 [57600/60000]\tLoss: 0.089363\n",
            "Train Epoch: 3 [58240/60000]\tLoss: 0.132958\n",
            "Train Epoch: 3 [58880/60000]\tLoss: 0.069441\n",
            "Train Epoch: 3 [59520/60000]\tLoss: 0.146438\n",
            "\n",
            "Test set: Avg. loss: 0.0763, Accuracy: 9754/10000 (98%)\n",
            "\n"
          ]
        }
      ]
    },
    {
      "cell_type": "code",
      "source": [
        "# Run network on data we got before and show predictions\n",
        "output = model(example_data)\n",
        "\n",
        "fig = plt.figure()\n",
        "for i in range(10):\n",
        "  plt.subplot(5,5,i+1)\n",
        "  plt.tight_layout()\n",
        "  plt.imshow(example_data[i][0], cmap='gray', interpolation='none')\n",
        "  plt.title(\"Prediction: {}\".format(\n",
        "    output.data.max(1, keepdim=True)[1][i].item()))\n",
        "  plt.xticks([])\n",
        "  plt.yticks([])\n",
        "plt.show()"
      ],
      "metadata": {
        "id": "o7fRUAy9Se1B",
        "colab": {
          "base_uri": "https://localhost:8080/",
          "height": 243
        },
        "outputId": "f72f7b3c-8616-47a8-d9d9-560d9ae60b9c"
      },
      "execution_count": 11,
      "outputs": [
        {
          "output_type": "stream",
          "name": "stderr",
          "text": [
            "<ipython-input-5-5f25aff7466a>:41: UserWarning: Implicit dimension choice for log_softmax has been deprecated. Change the call to include dim=X as an argument.\n",
            "  x = F.log_softmax(x)\n"
          ]
        },
        {
          "output_type": "display_data",
          "data": {
            "text/plain": [
              "<Figure size 640x480 with 10 Axes>"
            ],
            "image/png": "[encoded data removed]"
          },
          "metadata": {}
        }
      ]
    }
  ]
}