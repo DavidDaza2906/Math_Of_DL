{
  "nbformat": 4,
  "nbformat_minor": 0,
  "metadata": {
    "colab": {
      "provenance": [],
      "include_colab_link": true
    },
    "kernelspec": {
      "name": "python3",
      "display_name": "Python 3"
    },
    "language_info": {
      "name": "python"
    }
  },
  "cells": [
    {
      "cell_type": "markdown",
      "metadata": {
        "id": "view-in-github",
        "colab_type": "text"
      },
      "source": [
        "<a href=\"https://colab.research.google.com/github/DavidDaza2906/UnderstandingDeepLearning/blob/main/Chapter%2010/10_2_Convolution_for_MNIST_1D.ipynb\" target=\"_parent\"><img src=\"https://colab.research.google.com/assets/colab-badge.svg\" alt=\"Open In Colab\"/></a>"
      ]
    },
    {
      "cell_type": "markdown",
      "source": [
        "# **Notebook 10.2: Convolution for MNIST-1D**\n",
        "\n",
        "This notebook investigates a 1D convolutional network for MNIST-1D as in figure 10.7 and 10.8a.\n",
        "\n",
        "Work through the cells below, running each cell in turn. In various places you will see the words \"TO DO\". Follow the instructions at these places and make predictions about what is going to happen or write code to complete the functions.\n",
        "\n",
        "Contact me at udlbookmail@gmail.com if you find any mistakes or have any suggestions.\n",
        "\n"
      ],
      "metadata": {
        "id": "t9vk9Elugvmi"
      }
    },
    {
      "cell_type": "code",
      "source": [
        "# Run this if you're in a Colab to install MNIST 1D repository\n",
        "!pip install git+https://github.com/greydanus/mnist1d"
      ],
      "metadata": {
        "id": "D5yLObtZCi9J",
        "outputId": "1571bc35-1f45-425e-a41b-78a6d2121650",
        "colab": {
          "base_uri": "https://localhost:8080/"
        }
      },
      "execution_count": 1,
      "outputs": [
        {
          "output_type": "stream",
          "name": "stdout",
          "text": [
            "Collecting git+https://github.com/greydanus/mnist1d\n",
            "  Cloning https://github.com/greydanus/mnist1d to /tmp/pip-req-build-37e44qs8\n",
            "  Running command git clone --filter=blob:none --quiet https://github.com/greydanus/mnist1d /tmp/pip-req-build-37e44qs8\n",
            "  Resolved https://github.com/greydanus/mnist1d to commit dc46206f1e1ad7249c96e3042efca0955a6b5d35\n",
            "  Installing build dependencies ... \u001b[?25l\u001b[?25hdone\n",
            "  Getting requirements to build wheel ... \u001b[?25l\u001b[?25hdone\n",
            "  Preparing metadata (pyproject.toml) ... \u001b[?25l\u001b[?25hdone\n",
            "Requirement already satisfied: requests in /usr/local/lib/python3.10/dist-packages (from mnist1d==0.0.2.post10) (2.32.3)\n",
            "Requirement already satisfied: numpy in /usr/local/lib/python3.10/dist-packages (from mnist1d==0.0.2.post10) (1.26.4)\n",
            "Requirement already satisfied: matplotlib in /usr/local/lib/python3.10/dist-packages (from mnist1d==0.0.2.post10) (3.7.1)\n",
            "Requirement already satisfied: scipy in /usr/local/lib/python3.10/dist-packages (from mnist1d==0.0.2.post10) (1.13.1)\n",
            "Requirement already satisfied: contourpy>=1.0.1 in /usr/local/lib/python3.10/dist-packages (from matplotlib->mnist1d==0.0.2.post10) (1.2.1)\n",
            "Requirement already satisfied: cycler>=0.10 in /usr/local/lib/python3.10/dist-packages (from matplotlib->mnist1d==0.0.2.post10) (0.12.1)\n",
            "Requirement already satisfied: fonttools>=4.22.0 in /usr/local/lib/python3.10/dist-packages (from matplotlib->mnist1d==0.0.2.post10) (4.53.1)\n",
            "Requirement already satisfied: kiwisolver>=1.0.1 in /usr/local/lib/python3.10/dist-packages (from matplotlib->mnist1d==0.0.2.post10) (1.4.5)\n",
            "Requirement already satisfied: packaging>=20.0 in /usr/local/lib/python3.10/dist-packages (from matplotlib->mnist1d==0.0.2.post10) (24.1)\n",
            "Requirement already satisfied: pillow>=6.2.0 in /usr/local/lib/python3.10/dist-packages (from matplotlib->mnist1d==0.0.2.post10) (9.4.0)\n",
            "Requirement already satisfied: pyparsing>=2.3.1 in /usr/local/lib/python3.10/dist-packages (from matplotlib->mnist1d==0.0.2.post10) (3.1.4)\n",
            "Requirement already satisfied: python-dateutil>=2.7 in /usr/local/lib/python3.10/dist-packages (from matplotlib->mnist1d==0.0.2.post10) (2.8.2)\n",
            "Requirement already satisfied: charset-normalizer<4,>=2 in /usr/local/lib/python3.10/dist-packages (from requests->mnist1d==0.0.2.post10) (3.3.2)\n",
            "Requirement already satisfied: idna<4,>=2.5 in /usr/local/lib/python3.10/dist-packages (from requests->mnist1d==0.0.2.post10) (3.8)\n",
            "Requirement already satisfied: urllib3<3,>=1.21.1 in /usr/local/lib/python3.10/dist-packages (from requests->mnist1d==0.0.2.post10) (2.0.7)\n",
            "Requirement already satisfied: certifi>=2017.4.17 in /usr/local/lib/python3.10/dist-packages (from requests->mnist1d==0.0.2.post10) (2024.7.4)\n",
            "Requirement already satisfied: six>=1.5 in /usr/local/lib/python3.10/dist-packages (from python-dateutil>=2.7->matplotlib->mnist1d==0.0.2.post10) (1.16.0)\n",
            "Building wheels for collected packages: mnist1d\n",
            "  Building wheel for mnist1d (pyproject.toml) ... \u001b[?25l\u001b[?25hdone\n",
            "  Created wheel for mnist1d: filename=mnist1d-0.0.2.post10-py3-none-any.whl size=14564 sha256=c5e530cade1c1428a5d18ea74aa66ea2d1151a7ae6f862b8924c864d9ae27182\n",
            "  Stored in directory: /tmp/pip-ephem-wheel-cache-rbtnaajr/wheels/41/95/55/45fcf7d38cfa97e35682da6c5017d4513729131326ce935371\n",
            "Successfully built mnist1d\n",
            "Installing collected packages: mnist1d\n",
            "Successfully installed mnist1d-0.0.2.post10\n"
          ]
        }
      ]
    },
    {
      "cell_type": "code",
      "source": [
        "import numpy as np\n",
        "import os\n",
        "import torch, torch.nn as nn\n",
        "from torch.utils.data import TensorDataset, DataLoader\n",
        "from torch.optim.lr_scheduler import StepLR\n",
        "import matplotlib.pyplot as plt\n",
        "import mnist1d\n",
        "import random"
      ],
      "metadata": {
        "id": "YrXWAH7sUWvU"
      },
      "execution_count": 2,
      "outputs": []
    },
    {
      "cell_type": "code",
      "source": [
        "args = mnist1d.data.get_dataset_args()\n",
        "data = mnist1d.data.get_dataset(args, path='./mnist1d_data.pkl', download=False, regenerate=False)\n",
        "\n",
        "# The training and test input and outputs are in\n",
        "# data['x'], data['y'], data['x_test'], and data['y_test']\n",
        "print(\"Examples in training set: {}\".format(len(data['y'])))\n",
        "print(\"Examples in test set: {}\".format(len(data['y_test'])))\n",
        "print(\"Length of each example: {}\".format(data['x'].shape[-1]))"
      ],
      "metadata": {
        "id": "twI72ZCrCt5z",
        "outputId": "37474cb9-808b-446e-a440-f2501cdc8ffc",
        "colab": {
          "base_uri": "https://localhost:8080/"
        }
      },
      "execution_count": 3,
      "outputs": [
        {
          "output_type": "stream",
          "name": "stdout",
          "text": [
            "Did or could not load data from ./mnist1d_data.pkl. Rebuilding dataset...\n",
            "Examples in training set: 4000\n",
            "Examples in test set: 1000\n",
            "Length of each example: 40\n"
          ]
        }
      ]
    },
    {
      "cell_type": "code",
      "source": [
        "# Load in the data\n",
        "train_data_x = data['x'].transpose()\n",
        "train_data_y = data['y']\n",
        "val_data_x = data['x_test'].transpose()\n",
        "val_data_y = data['y_test']\n",
        "# Print out sizes\n",
        "print(\"Train data: %d examples (columns), each of which has %d dimensions (rows)\"%((train_data_x.shape[1],train_data_x.shape[0])))\n",
        "print(\"Validation data: %d examples (columns), each of which has %d dimensions (rows)\"%((val_data_x.shape[1],val_data_x.shape[0])))"
      ],
      "metadata": {
        "id": "8bKADvLHbiV5",
        "outputId": "822e17bb-880e-453d-dddf-bb22ae4f3e54",
        "colab": {
          "base_uri": "https://localhost:8080/"
        }
      },
      "execution_count": 4,
      "outputs": [
        {
          "output_type": "stream",
          "name": "stdout",
          "text": [
            "Train data: 4000 examples (columns), each of which has 40 dimensions (rows)\n",
            "Validation data: 1000 examples (columns), each of which has 40 dimensions (rows)\n"
          ]
        }
      ]
    },
    {
      "cell_type": "markdown",
      "source": [
        "Define the network"
      ],
      "metadata": {
        "id": "_sFvRDGrl4qe"
      }
    },
    {
      "cell_type": "code",
      "source": [
        "# There are 40 input dimensions and 10 output dimensions for this data\n",
        "# The inputs correspond to the 40 offsets in the MNIST1D template.\n",
        "D_i = 40\n",
        "# The outputs correspond to the 10 digits\n",
        "D_o = 10\n",
        "\n",
        "\n",
        "# TODO Create a model with the following layers\n",
        "# 1. Convolutional layer, (input=length 40 and 1 channel, kernel size 3, stride 2, padding=\"valid\", 15 output channels )\n",
        "# 2. ReLU\n",
        "# 3. Convolutional layer, (input=length 19 and 15 channels, kernel size 3, stride 2, padding=\"valid\", 15 output channels )\n",
        "# 4. ReLU\n",
        "# 5. Convolutional layer, (input=length 9 and 15 channels, kernel size 3, stride 2, padding=\"valid\", 15 output channels)\n",
        "# 6. ReLU\n",
        "# 7. Flatten (converts 4x15) to length 60\n",
        "# 8. Linear layer (input size = 60, output size = 10)\n",
        "# References:\n",
        "# https://pytorch.org/docs/1.13/generated/torch.nn.Conv1d.html?highlight=conv1d#torch.nn.Conv1d\n",
        "# https://pytorch.org/docs/stable/generated/torch.nn.Flatten.html\n",
        "# https://pytorch.org/docs/1.13/generated/torch.nn.Linear.html?highlight=linear#torch.nn.Linear\n",
        "\n",
        "# NOTE THAT THE CONVOLUTIONAL LAYERS NEED TO TAKE THE NUMBER OF INPUT CHANNELS AS A PARAMETER\n",
        "# AND NOT THE INPUT SIZE.\n",
        "\n",
        "# Replace the following function:\n",
        "\n",
        "model = nn.Sequential(nn.Conv1d(in_channels = 1, out_channels = 15, kernel_size = 3, stride=2, padding=\"valid\"),nn.ReLU(),nn.Conv1d(in_channels = 15, out_channels = 15, kernel_size = 3, stride=2, padding=\"valid\"),nn.ReLU(),nn.Conv1d(in_channels = 15, out_channels = 15, kernel_size = 3, stride=2, padding=\"valid\"),nn.ReLU(),nn.Flatten(),nn.Linear(60, 100))\n",
        "\n",
        "\n"
      ],
      "metadata": {
        "id": "FslroPJJffrh"
      },
      "execution_count": 5,
      "outputs": []
    },
    {
      "cell_type": "code",
      "source": [
        "# He initialization of weights\n",
        "def weights_init(layer_in):\n",
        "  if isinstance(layer_in, nn.Linear):\n",
        "    nn.init.kaiming_uniform_(layer_in.weight)\n",
        "    layer_in.bias.data.fill_(0.0)"
      ],
      "metadata": {
        "id": "YgLaex1pfhqz"
      },
      "execution_count": 6,
      "outputs": []
    },
    {
      "cell_type": "code",
      "source": [
        "# choose cross entropy loss function (equation 5.24 in the loss notes)\n",
        "loss_function = nn.CrossEntropyLoss()\n",
        "# construct SGD optimizer and initialize learning rate and momentum\n",
        "optimizer = torch.optim.SGD(model.parameters(), lr = 0.05, momentum=0.9)\n",
        "# object that decreases learning rate by half every 20 epochs\n",
        "scheduler = StepLR(optimizer, step_size=20, gamma=0.5)\n",
        "# create 100 dummy data points and store in data loader class\n",
        "x_train = torch.tensor(train_data_x.transpose().astype('float32'))\n",
        "y_train = torch.tensor(train_data_y.astype('long')).long()\n",
        "x_val= torch.tensor(val_data_x.transpose().astype('float32'))\n",
        "y_val = torch.tensor(val_data_y.astype('long')).long()\n",
        "\n",
        "# load the data into a class that creates the batches\n",
        "data_loader = DataLoader(TensorDataset(x_train,y_train), batch_size=100, shuffle=True, worker_init_fn=np.random.seed(1))\n",
        "\n",
        "# Initialize model weights\n",
        "model.apply(weights_init)\n",
        "\n",
        "# loop over the dataset n_epoch times\n",
        "n_epoch = 100\n",
        "# store the loss and the % correct at each epoch\n",
        "losses_train = np.zeros((n_epoch))\n",
        "errors_train = np.zeros((n_epoch))\n",
        "losses_val = np.zeros((n_epoch))\n",
        "errors_val = np.zeros((n_epoch))\n",
        "\n",
        "for epoch in range(n_epoch):\n",
        "  # loop over batches\n",
        "  for i, data in enumerate(data_loader):\n",
        "    # retrieve inputs and labels for this batch\n",
        "    x_batch, y_batch = data\n",
        "    # zero the parameter gradients\n",
        "    optimizer.zero_grad()\n",
        "    # forward pass -- calculate model output\n",
        "    pred = model(x_batch[:,None,:])\n",
        "    # compute the loss\n",
        "    loss = loss_function(pred, y_batch)\n",
        "    # backward pass\n",
        "    loss.backward()\n",
        "    # SGD update\n",
        "    optimizer.step()\n",
        "\n",
        "  # Run whole dataset to get statistics -- normally wouldn't do this\n",
        "  pred_train = model(x_train[:,None,:])\n",
        "  pred_val = model(x_val[:,None,:])\n",
        "  _, predicted_train_class = torch.max(pred_train.data, 1)\n",
        "  _, predicted_val_class = torch.max(pred_val.data, 1)\n",
        "  errors_train[epoch] = 100 - 100 * (predicted_train_class == y_train).float().sum() / len(y_train)\n",
        "  errors_val[epoch]= 100 - 100 * (predicted_val_class == y_val).float().sum() / len(y_val)\n",
        "  losses_train[epoch] = loss_function(pred_train, y_train).item()\n",
        "  losses_val[epoch]= loss_function(pred_val, y_val).item()\n",
        "  print(f'Epoch {epoch:5d}, train loss {losses_train[epoch]:.6f}, train error {errors_train[epoch]:3.2f},  val loss {losses_val[epoch]:.6f}, percent error {errors_val[epoch]:3.2f}')\n",
        "\n",
        "  # tell scheduler to consider updating learning rate\n",
        "  scheduler.step()\n",
        "\n",
        "# Plot the results\n",
        "fig, ax = plt.subplots()\n",
        "ax.plot(errors_train,'r-',label='train')\n",
        "ax.plot(errors_val,'b-',label='validation')\n",
        "ax.set_ylim(0,100); ax.set_xlim(0,n_epoch)\n",
        "ax.set_xlabel('Epoch'); ax.set_ylabel('Error')\n",
        "ax.set_title('Part I: Validation Result %3.2f'%(errors_val[-1]))\n",
        "ax.legend()\n",
        "plt.show()"
      ],
      "metadata": {
        "id": "NYw8I_3mmX5c",
        "outputId": "d5279007-f3e3-466b-db14-b0100062348f",
        "colab": {
          "base_uri": "https://localhost:8080/",
          "height": 1000
        }
      },
      "execution_count": 7,
      "outputs": [
        {
          "output_type": "stream",
          "name": "stdout",
          "text": [
            "Epoch     0, train loss 1.884974, train error 74.47,  val loss 1.930633, percent error 75.60\n",
            "Epoch     1, train loss 1.479435, train error 59.70,  val loss 1.486084, percent error 60.40\n",
            "Epoch     2, train loss 1.368943, train error 54.22,  val loss 1.376573, percent error 56.20\n",
            "Epoch     3, train loss 1.290273, train error 52.95,  val loss 1.306212, percent error 55.00\n",
            "Epoch     4, train loss 1.154066, train error 47.40,  val loss 1.187788, percent error 50.80\n",
            "Epoch     5, train loss 1.049226, train error 43.28,  val loss 1.068309, percent error 43.00\n",
            "Epoch     6, train loss 0.927216, train error 36.30,  val loss 0.950504, percent error 39.30\n",
            "Epoch     7, train loss 0.820038, train error 32.35,  val loss 0.837550, percent error 32.70\n",
            "Epoch     8, train loss 0.810821, train error 32.00,  val loss 0.873124, percent error 35.40\n",
            "Epoch     9, train loss 0.657574, train error 26.53,  val loss 0.708409, percent error 28.50\n",
            "Epoch    10, train loss 0.675946, train error 25.82,  val loss 0.729139, percent error 27.70\n",
            "Epoch    11, train loss 0.718193, train error 27.22,  val loss 0.763158, percent error 28.20\n",
            "Epoch    12, train loss 0.578157, train error 22.88,  val loss 0.636786, percent error 25.00\n",
            "Epoch    13, train loss 0.556527, train error 22.22,  val loss 0.622014, percent error 23.50\n",
            "Epoch    14, train loss 0.475274, train error 18.30,  val loss 0.550834, percent error 20.10\n",
            "Epoch    15, train loss 0.425383, train error 15.57,  val loss 0.490487, percent error 17.60\n",
            "Epoch    16, train loss 0.482068, train error 18.03,  val loss 0.575289, percent error 21.60\n",
            "Epoch    17, train loss 0.363726, train error 12.93,  val loss 0.463522, percent error 15.20\n",
            "Epoch    18, train loss 0.310953, train error 11.15,  val loss 0.433558, percent error 15.10\n",
            "Epoch    19, train loss 0.396099, train error 14.40,  val loss 0.529507, percent error 18.50\n",
            "Epoch    20, train loss 0.228107, train error 8.07,  val loss 0.353433, percent error 12.40\n",
            "Epoch    21, train loss 0.211506, train error 7.35,  val loss 0.370368, percent error 12.30\n",
            "Epoch    22, train loss 0.191565, train error 6.65,  val loss 0.342175, percent error 11.90\n",
            "Epoch    23, train loss 0.184064, train error 7.07,  val loss 0.337033, percent error 10.80\n",
            "Epoch    24, train loss 0.173148, train error 5.88,  val loss 0.354633, percent error 11.70\n",
            "Epoch    25, train loss 0.159572, train error 5.10,  val loss 0.328082, percent error 10.80\n",
            "Epoch    26, train loss 0.156157, train error 5.50,  val loss 0.350249, percent error 11.30\n",
            "Epoch    27, train loss 0.149947, train error 5.03,  val loss 0.311799, percent error 10.40\n",
            "Epoch    28, train loss 0.160564, train error 5.65,  val loss 0.359996, percent error 12.20\n",
            "Epoch    29, train loss 0.115391, train error 3.62,  val loss 0.315974, percent error 9.90\n",
            "Epoch    30, train loss 0.127616, train error 4.12,  val loss 0.332065, percent error 11.00\n",
            "Epoch    31, train loss 0.145925, train error 4.93,  val loss 0.336613, percent error 11.00\n",
            "Epoch    32, train loss 0.105312, train error 3.40,  val loss 0.290850, percent error 9.50\n",
            "Epoch    33, train loss 0.113124, train error 3.72,  val loss 0.317120, percent error 10.10\n",
            "Epoch    34, train loss 0.113300, train error 3.88,  val loss 0.345583, percent error 10.20\n",
            "Epoch    35, train loss 0.105109, train error 3.45,  val loss 0.320170, percent error 9.60\n",
            "Epoch    36, train loss 0.123119, train error 4.38,  val loss 0.319422, percent error 11.10\n",
            "Epoch    37, train loss 0.104673, train error 3.75,  val loss 0.338243, percent error 9.50\n",
            "Epoch    38, train loss 0.085475, train error 2.90,  val loss 0.289936, percent error 8.50\n",
            "Epoch    39, train loss 0.095169, train error 3.32,  val loss 0.344312, percent error 10.10\n",
            "Epoch    40, train loss 0.067909, train error 2.05,  val loss 0.295807, percent error 9.20\n",
            "Epoch    41, train loss 0.065878, train error 1.88,  val loss 0.301035, percent error 9.40\n",
            "Epoch    42, train loss 0.062040, train error 1.75,  val loss 0.311108, percent error 9.60\n",
            "Epoch    43, train loss 0.058763, train error 1.53,  val loss 0.308121, percent error 8.40\n",
            "Epoch    44, train loss 0.060534, train error 1.78,  val loss 0.312466, percent error 9.30\n",
            "Epoch    45, train loss 0.057165, train error 1.43,  val loss 0.316394, percent error 9.00\n",
            "Epoch    46, train loss 0.057423, train error 1.47,  val loss 0.303803, percent error 9.40\n",
            "Epoch    47, train loss 0.057104, train error 1.32,  val loss 0.311935, percent error 9.20\n",
            "Epoch    48, train loss 0.055138, train error 1.15,  val loss 0.320102, percent error 9.30\n",
            "Epoch    49, train loss 0.051707, train error 1.28,  val loss 0.317006, percent error 8.50\n",
            "Epoch    50, train loss 0.052071, train error 1.40,  val loss 0.314509, percent error 9.20\n",
            "Epoch    51, train loss 0.053771, train error 1.43,  val loss 0.321480, percent error 9.20\n",
            "Epoch    52, train loss 0.055113, train error 1.47,  val loss 0.324322, percent error 9.40\n",
            "Epoch    53, train loss 0.054391, train error 1.68,  val loss 0.336928, percent error 8.50\n",
            "Epoch    54, train loss 0.049323, train error 1.07,  val loss 0.341733, percent error 9.90\n",
            "Epoch    55, train loss 0.051826, train error 1.32,  val loss 0.322506, percent error 9.10\n",
            "Epoch    56, train loss 0.046109, train error 1.10,  val loss 0.337483, percent error 9.30\n",
            "Epoch    57, train loss 0.047000, train error 1.03,  val loss 0.343263, percent error 8.80\n",
            "Epoch    58, train loss 0.045370, train error 1.00,  val loss 0.349728, percent error 9.30\n",
            "Epoch    59, train loss 0.043247, train error 1.07,  val loss 0.349002, percent error 9.20\n",
            "Epoch    60, train loss 0.040812, train error 0.93,  val loss 0.341716, percent error 8.80\n",
            "Epoch    61, train loss 0.038622, train error 0.68,  val loss 0.342553, percent error 8.80\n",
            "Epoch    62, train loss 0.039773, train error 0.80,  val loss 0.355565, percent error 9.10\n",
            "Epoch    63, train loss 0.037576, train error 0.65,  val loss 0.341743, percent error 9.10\n",
            "Epoch    64, train loss 0.037546, train error 0.60,  val loss 0.344868, percent error 8.80\n",
            "Epoch    65, train loss 0.037655, train error 0.75,  val loss 0.342988, percent error 8.90\n",
            "Epoch    66, train loss 0.039884, train error 0.88,  val loss 0.352990, percent error 9.50\n",
            "Epoch    67, train loss 0.039028, train error 0.80,  val loss 0.358865, percent error 9.50\n",
            "Epoch    68, train loss 0.037514, train error 0.70,  val loss 0.341143, percent error 8.90\n",
            "Epoch    69, train loss 0.035324, train error 0.55,  val loss 0.343633, percent error 9.00\n",
            "Epoch    70, train loss 0.034393, train error 0.50,  val loss 0.346900, percent error 9.00\n",
            "Epoch    71, train loss 0.034859, train error 0.55,  val loss 0.350987, percent error 9.20\n",
            "Epoch    72, train loss 0.034627, train error 0.60,  val loss 0.355267, percent error 9.20\n",
            "Epoch    73, train loss 0.034585, train error 0.57,  val loss 0.357534, percent error 9.50\n",
            "Epoch    74, train loss 0.033738, train error 0.45,  val loss 0.350695, percent error 8.80\n",
            "Epoch    75, train loss 0.032787, train error 0.53,  val loss 0.350162, percent error 9.00\n",
            "Epoch    76, train loss 0.032598, train error 0.47,  val loss 0.348001, percent error 8.80\n",
            "Epoch    77, train loss 0.032370, train error 0.50,  val loss 0.350889, percent error 9.20\n",
            "Epoch    78, train loss 0.031540, train error 0.43,  val loss 0.357516, percent error 8.80\n",
            "Epoch    79, train loss 0.031207, train error 0.45,  val loss 0.356742, percent error 8.90\n",
            "Epoch    80, train loss 0.030696, train error 0.40,  val loss 0.355768, percent error 8.50\n",
            "Epoch    81, train loss 0.030696, train error 0.47,  val loss 0.365560, percent error 9.10\n",
            "Epoch    82, train loss 0.030262, train error 0.45,  val loss 0.357849, percent error 8.80\n",
            "Epoch    83, train loss 0.030240, train error 0.43,  val loss 0.355232, percent error 8.90\n",
            "Epoch    84, train loss 0.030263, train error 0.40,  val loss 0.357653, percent error 8.40\n",
            "Epoch    85, train loss 0.030787, train error 0.38,  val loss 0.358014, percent error 8.90\n",
            "Epoch    86, train loss 0.030543, train error 0.40,  val loss 0.354733, percent error 8.80\n",
            "Epoch    87, train loss 0.029745, train error 0.40,  val loss 0.360969, percent error 8.70\n",
            "Epoch    88, train loss 0.029273, train error 0.43,  val loss 0.364444, percent error 8.90\n",
            "Epoch    89, train loss 0.029367, train error 0.35,  val loss 0.357462, percent error 8.90\n",
            "Epoch    90, train loss 0.030841, train error 0.43,  val loss 0.366002, percent error 9.10\n",
            "Epoch    91, train loss 0.028905, train error 0.45,  val loss 0.365343, percent error 8.90\n",
            "Epoch    92, train loss 0.028776, train error 0.35,  val loss 0.365630, percent error 8.80\n",
            "Epoch    93, train loss 0.028445, train error 0.40,  val loss 0.362072, percent error 8.70\n",
            "Epoch    94, train loss 0.028676, train error 0.32,  val loss 0.359957, percent error 8.80\n",
            "Epoch    95, train loss 0.028482, train error 0.40,  val loss 0.370558, percent error 8.90\n",
            "Epoch    96, train loss 0.028127, train error 0.40,  val loss 0.364305, percent error 8.60\n",
            "Epoch    97, train loss 0.028042, train error 0.32,  val loss 0.365459, percent error 8.80\n",
            "Epoch    98, train loss 0.027911, train error 0.38,  val loss 0.365453, percent error 9.00\n",
            "Epoch    99, train loss 0.027904, train error 0.38,  val loss 0.361254, percent error 8.90\n"
          ]
        },
        {
          "output_type": "display_data",
          "data": {
            "text/plain": [
              "<Figure size 640x480 with 1 Axes>"
            ],
            "image/png": "[encoded data removed]"
          },
          "metadata": {}
        }
      ]
    }
  ]
}